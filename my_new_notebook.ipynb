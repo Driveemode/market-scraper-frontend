{
 "cells": [
  {
   "cell_type": "markdown",
   "id": "c2dc1899",
   "metadata": {},
   "source": [
    "# My New Jupyter Notebook"
   ]
  },
  {
   "cell_type": "code",
   "execution_count": null,
   "id": "3f1e57f8",
   "metadata": {},
   "outputs": [],
   "source": [
    "print('Hello, world!')"
   ]
  },
  {
   "cell_type": "markdown",
   "id": "825ad683",
   "metadata": {},
   "source": [
    "## Add Cells to Notebook\n",
    "In this section, we will add different types of cells (code, markdown) to the notebook."
   ]
  },
  {
   "cell_type": "markdown",
   "id": "7f3eede2",
   "metadata": {},
   "source": [
    "### This is a Markdown Cell"
   ]
  },
  {
   "cell_type": "code",
   "execution_count": null,
   "id": "9fbea1b7",
   "metadata": {},
   "outputs": [],
   "source": [
    "a = 10\n",
    "b = 20\n",
    "a + b"
   ]
  },
  {
   "cell_type": "markdown",
   "id": "e5f82682",
   "metadata": {},
   "source": [
    "### Another Markdown Cell"
   ]
  },
  {
   "cell_type": "code",
   "execution_count": null,
   "id": "6305ccc0",
   "metadata": {},
   "outputs": [],
   "source": [
    "import math\n",
    "math.sqrt(16)"
   ]
  }
 ],
 "metadata": {},
 "nbformat": 4,
 "nbformat_minor": 5
}
