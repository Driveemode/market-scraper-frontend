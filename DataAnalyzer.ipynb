{
 "cells": [
  {
   "cell_type": "markdown",
   "metadata": {},
   "source": [
    "# Set Up Environment\n",
    "Import the necessary libraries and set up the environment for creating a new notebook."
   ]
  },
  {
   "cell_type": "code",
   "execution_count": 6,
   "metadata": {},
   "outputs": [
    {
     "name": "stdout",
     "output_type": "stream",
     "text": [
      "Requirement already satisfied: nbformat in c:\\users\\dell\\appdata\\local\\programs\\python\\python311\\lib\\site-packages (5.10.4)\n",
      "Requirement already satisfied: fastjsonschema>=2.15 in c:\\users\\dell\\appdata\\local\\programs\\python\\python311\\lib\\site-packages (from nbformat) (2.21.0)\n",
      "Requirement already satisfied: jsonschema>=2.6 in c:\\users\\dell\\appdata\\local\\programs\\python\\python311\\lib\\site-packages (from nbformat) (4.23.0)\n",
      "Requirement already satisfied: jupyter-core!=5.0.*,>=4.12 in c:\\users\\dell\\appdata\\roaming\\python\\python311\\site-packages (from nbformat) (5.7.2)\n",
      "Requirement already satisfied: traitlets>=5.1 in c:\\users\\dell\\appdata\\roaming\\python\\python311\\site-packages (from nbformat) (5.14.3)\n",
      "Requirement already satisfied: attrs>=22.2.0 in c:\\users\\dell\\appdata\\local\\programs\\python\\python311\\lib\\site-packages (from jsonschema>=2.6->nbformat) (24.2.0)\n",
      "Requirement already satisfied: jsonschema-specifications>=2023.03.6 in c:\\users\\dell\\appdata\\local\\programs\\python\\python311\\lib\\site-packages (from jsonschema>=2.6->nbformat) (2024.10.1)\n",
      "Requirement already satisfied: referencing>=0.28.4 in c:\\users\\dell\\appdata\\local\\programs\\python\\python311\\lib\\site-packages (from jsonschema>=2.6->nbformat) (0.35.1)\n",
      "Requirement already satisfied: rpds-py>=0.7.1 in c:\\users\\dell\\appdata\\local\\programs\\python\\python311\\lib\\site-packages (from jsonschema>=2.6->nbformat) (0.21.0)\n",
      "Requirement already satisfied: platformdirs>=2.5 in c:\\users\\dell\\appdata\\roaming\\python\\python311\\site-packages (from jupyter-core!=5.0.*,>=4.12->nbformat) (4.3.6)\n",
      "Requirement already satisfied: pywin32>=300 in c:\\users\\dell\\appdata\\roaming\\python\\python311\\site-packages (from jupyter-core!=5.0.*,>=4.12->nbformat) (308)\n",
      "Note: you may need to restart the kernel to use updated packages.\n"
     ]
    },
    {
     "name": "stderr",
     "output_type": "stream",
     "text": [
      "\n",
      "[notice] A new release of pip available: 22.3.1 -> 24.3.1\n",
      "[notice] To update, run: python.exe -m pip install --upgrade pip\n"
     ]
    }
   ],
   "source": [
    "# Install the nbformat package\n",
    "%pip install nbformat\n",
    "\n",
    "# Import the necessary libraries\n",
    "import nbformat\n",
    "from nbformat.v4 import new_notebook, new_code_cell, new_markdown_cell\n",
    "\n",
    "# Create a new notebook object\n",
    "nb = new_notebook()\n",
    "\n",
    "# Add a markdown cell to the notebook\n",
    "nb.cells.append(new_markdown_cell(\"# My New Jupyter Notebook\"))\n",
    "\n",
    "# Add a code cell to the notebook\n",
    "nb.cells.append(new_code_cell(\"print('Hello, world!')\"))\n",
    "\n",
    "# Save the notebook to a file\n",
    "with open('my_new_notebook.ipynb', 'w') as f:\n",
    "    nbformat.write(nb, f)"
   ]
  },
  {
   "cell_type": "markdown",
   "metadata": {},
   "source": [
    "# Create a New Notebook\n",
    "Use the nbformat library to create a new Jupyter notebook object."
   ]
  },
  {
   "cell_type": "code",
   "execution_count": 11,
   "metadata": {},
   "outputs": [],
   "source": [
    "# Create a New Notebook\n",
    "\n",
    "# Import the necessary libraries\n",
    "import nbformat\n",
    "from nbformat.v4 import new_notebook, new_code_cell, new_markdown_cell\n",
    "\n",
    "# Create a new notebook object\n",
    "nb = new_notebook()\n",
    "\n",
    "# Add a markdown cell to the notebook\n",
    "nb.cells.append(new_markdown_cell(\"# My New Jupyter Notebook\"))\n",
    "\n",
    "# Add a code cell to the notebook\n",
    "nb.cells.append(new_code_cell(\"print('Hello, world!')\"))\n",
    "\n",
    "# Save the notebook to a file\n",
    "with open('my_new_notebook.ipynb', 'w') as f:\n",
    "    nbformat.write(nb, f)"
   ]
  },
  {
   "cell_type": "markdown",
   "metadata": {},
   "source": [
    "# Add Cells to Notebook\n",
    "Add different types of cells (code, markdown) to the notebook."
   ]
  },
  {
   "cell_type": "code",
   "execution_count": 12,
   "metadata": {},
   "outputs": [],
   "source": [
    "# Add a markdown cell to describe the section\n",
    "nb.cells.append(new_markdown_cell(\"## Add Cells to Notebook\\nIn this section, we will add different types of cells (code, markdown) to the notebook.\"))\n",
    "\n",
    "# Add a markdown cell\n",
    "nb.cells.append(new_markdown_cell(\"### This is a Markdown Cell\"))\n",
    "\n",
    "# Add a code cell\n",
    "nb.cells.append(new_code_cell(\"a = 10\\nb = 20\\na + b\"))\n",
    "\n",
    "# Add another markdown cell\n",
    "nb.cells.append(new_markdown_cell(\"### Another Markdown Cell\"))\n",
    "\n",
    "# Add another code cell\n",
    "nb.cells.append(new_code_cell(\"import math\\nmath.sqrt(16)\"))\n",
    "\n",
    "# Save the updated notebook to a file\n",
    "with open('my_new_notebook.ipynb', 'w') as f:\n",
    "    nbformat.write(nb, f)"
   ]
  },
  {
   "cell_type": "markdown",
   "metadata": {},
   "source": [
    "# Save and Close Notebook\n",
    "Save the notebook to a file and close it."
   ]
  },
  {
   "cell_type": "code",
   "execution_count": 13,
   "metadata": {},
   "outputs": [],
   "source": [
    "# Save and Close Notebook\n",
    "\n",
    "# Save the notebook to a file\n",
    "with open('my_new_notebook.ipynb', 'w') as f:\n",
    "    nbformat.write(nb, f)\n",
    "\n",
    "# Close the notebook\n",
    "del nb"
   ]
  }
 ],
 "metadata": {
  "kernelspec": {
   "display_name": "Python 3",
   "language": "python",
   "name": "python3"
  },
  "language_info": {
   "codemirror_mode": {
    "name": "ipython",
    "version": 3
   },
   "file_extension": ".py",
   "mimetype": "text/x-python",
   "name": "python",
   "nbconvert_exporter": "python",
   "pygments_lexer": "ipython3",
   "version": "3.11.2"
  }
 },
 "nbformat": 4,
 "nbformat_minor": 2
}
